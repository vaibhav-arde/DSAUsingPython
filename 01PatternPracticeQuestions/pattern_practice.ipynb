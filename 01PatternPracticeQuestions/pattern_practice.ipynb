{
 "cells": [
  {
   "cell_type": "markdown",
   "metadata": {},
   "source": [
    "1 Square of side 'N'\n",
    "\n",
    "Problem Description: You are given an integer n. Your task is to return a square pattern of size n x n made up of the character '*', represented as a list of strings.\n",
    "\n",
    "Input Parameters:\n",
    "\n",
    "n (int): The size of the square (number of rows and columns).\n",
    "\n",
    "\n",
    "Output:\n",
    "\n",
    "A list of strings where each string is a row of n characters.\n",
    "\n",
    "\n",
    "\n",
    "Example:\n",
    "\n",
    "Input: 3\n",
    "\n",
    "Output: ['***', '***', '***']\n",
    " \n",
    "Input: 5\n",
    "\n",
    "Output: ['*****', '*****', '*****', '*****', '*****']\n"
   ]
  },
  {
   "cell_type": "code",
   "execution_count": 1,
   "metadata": {},
   "outputs": [
    {
     "name": "stdout",
     "output_type": "stream",
     "text": [
      "['***', '***', '***']\n",
      "['*****', '*****', '*****', '*****', '*****']\n"
     ]
    }
   ],
   "source": [
    "def generate_square(n):\n",
    "    \"\"\"\n",
    "    Function to return a square pattern of '*' of side n as a list of strings.\n",
    "    \n",
    "    Parameters:\n",
    "    n (int): The size of the square.\n",
    "    \n",
    "    Returns:\n",
    "    list: A list of strings where each string represents a row of the square.\n",
    "    \"\"\"\n",
    "    # Your code here\n",
    "    return ['*'* n for num in range(n)]\n",
    "\n",
    "print(generate_square(3))\n",
    "print(generate_square(5))"
   ]
  },
  {
   "cell_type": "markdown",
   "metadata": {},
   "source": [
    "2 Hollow Square of side 'N'\n",
    "\n",
    "Problem Description:\n",
    "\n",
    "You are given an integer n. Your task is to return a hollow square pattern of size n x n made up of the character '*', represented as a list of strings. The hollow square has '*' on the border, and spaces ' ' in the middle (except for side lengths of 1 and 2).\n",
    "\n",
    "Input Parameters:\n",
    "\n",
    "n (int): The size of the square (number of rows and columns).\n",
    "\n",
    "Output:\n",
    "\n",
    "A list of strings where each string is a row of n characters, representing a hollow square.\n",
    "\n",
    "Example:\n",
    "\n",
    "Input: 3\n",
    "\n",
    "Output: ['***', '* *', '***']\n",
    " \n",
    "Input: 5\n",
    "\n",
    "Output: ['*****', '*   *', '*   *', '*   *', '*****']\n"
   ]
  },
  {
   "cell_type": "code",
   "execution_count": 4,
   "metadata": {},
   "outputs": [
    {
     "name": "stdout",
     "output_type": "stream",
     "text": [
      "[]\n",
      "['*']\n",
      "['**', '**']\n",
      "['***', '* *', '***']\n",
      "['*****', '*   *', '*   *', '*   *', '*****']\n"
     ]
    }
   ],
   "source": [
    "def generate_hollow_square(n):\n",
    "    \"\"\"\n",
    "    Function to return a hollow square pattern of '*' of side n as a list of strings.\n",
    "    \n",
    "    Parameters:\n",
    "    n (int): The size of the square.\n",
    "    \n",
    "    Returns:\n",
    "    list: A list of strings where each string represents a row of the hollow square.\n",
    "    \"\"\"\n",
    "    # Your code here\n",
    "    # if n <3:\n",
    "    #     return \"For hallow square size should be more than 2\"\n",
    "    \n",
    "    borderRow = \"*\"*n\n",
    "    if n <3:\n",
    "        hallowRow = borderRow\n",
    "    else:\n",
    "        hallowRow = \"*\" + \" \"*(n-2) + \"*\"\n",
    "    \n",
    "    hallowSquare = []\n",
    "    for row in range(n):\n",
    "        if row==0 or row ==n-1:\n",
    "            hallowSquare.append(borderRow)\n",
    "        else:\n",
    "            hallowSquare.append(hallowRow)\n",
    "    return hallowSquare\n",
    "            \n",
    "print(generate_hollow_square(0))\n",
    "print(generate_hollow_square(1))\n",
    "print(generate_hollow_square(2))\n",
    "print(generate_hollow_square(3))\n",
    "print(generate_hollow_square(5))"
   ]
  },
  {
   "cell_type": "markdown",
   "metadata": {},
   "source": [
    "3 Rectangle Pattern\n",
    "\n",
    "Problem Description:\n",
    "\n",
    "You are given two integers, n and m. Your task is to return a rectangle pattern of '*', where n represents the number of rows (length) and m represents the number of columns (breadth).\n",
    "\n",
    "Input:\n",
    "\n",
    "Two integers n and m, where 1 <= n, m <= 100.\n",
    "\n",
    "Output:\n",
    "\n",
    "A list of strings where each string represents a row of the rectangle pattern.\n",
    "\n",
    "Example:\n",
    "\n",
    "Input: n = 4, m = 5\n",
    "\n",
    "Output: ['*****', '*****', '*****', '*****']\n",
    " \n",
    "Input: n = 3, m = 2\n",
    "\n",
    "Output: ['**', '**', '**']"
   ]
  },
  {
   "cell_type": "code",
   "execution_count": 4,
   "metadata": {},
   "outputs": [
    {
     "name": "stdout",
     "output_type": "stream",
     "text": [
      "[]\n",
      "['*']\n",
      "['**', '**']\n",
      "['***', '***', '***']\n",
      "['**', '**', '**']\n",
      "['****', '****', '****', '****', '****']\n",
      "['*****', '*****', '*****', '*****']\n"
     ]
    }
   ],
   "source": [
    "def generate_rectangle(n, m):\n",
    "    \"\"\"\n",
    "    Function to return a hollow square pattern of '*' of side n as a list of strings.\n",
    "    \n",
    "    Parameters:\n",
    "    n (int): The size of the square.\n",
    "    \n",
    "    Returns:\n",
    "    list: A list of strings where each string represents a row of the hollow square.\n",
    "    \"\"\"\n",
    "    # Your code here\n",
    "    # if n <3:\n",
    "    #     return \"For hallow square size should be more than 2\"\n",
    "    \n",
    "    lengthRow = \"*\"*m\n",
    "    \n",
    "    rectangle = []\n",
    "    for i in range(n):\n",
    "        rectangle.append(lengthRow)\n",
    "    return rectangle\n",
    "            \n",
    "print(generate_rectangle(0, 0))\n",
    "print(generate_rectangle(1, 1))\n",
    "print(generate_rectangle(2, 2))\n",
    "print(generate_rectangle(3, 3))\n",
    "print(generate_rectangle(3, 2))\n",
    "print(generate_rectangle(5, 4))\n",
    "print(generate_rectangle(4, 5))"
   ]
  },
  {
   "cell_type": "code",
   "execution_count": 5,
   "metadata": {},
   "outputs": [
    {
     "name": "stdout",
     "output_type": "stream",
     "text": [
      "[]\n",
      "['*']\n",
      "['**', '**']\n",
      "['***', '***', '***']\n",
      "['**', '**', '**']\n",
      "['****', '****', '****', '****', '****']\n",
      "['*****', '*****', '*****', '*****']\n"
     ]
    }
   ],
   "source": [
    "def generate_rectangle(n, m):\n",
    "    \"\"\"\n",
    "    Function to return a hollow square pattern of '*' of side n as a list of strings.\n",
    "    \n",
    "    Parameters:\n",
    "    n (int): The size of the square.\n",
    "    \n",
    "    Returns:\n",
    "    list: A list of strings where each string represents a row of the hollow square.\n",
    "    \"\"\"\n",
    "    # Your code here\n",
    "    # if n <3:\n",
    "    #     return \"For hallow square size should be more than 2\"\n",
    "    \n",
    "    lengthRow = \"*\"*m\n",
    "    \n",
    "    rectangle = [\"*\"*m] * n\n",
    "    \n",
    "    return rectangle\n",
    "            \n",
    "print(generate_rectangle(0, 0))\n",
    "print(generate_rectangle(1, 1))\n",
    "print(generate_rectangle(2, 2))\n",
    "print(generate_rectangle(3, 3))\n",
    "print(generate_rectangle(3, 2))\n",
    "print(generate_rectangle(5, 4))\n",
    "print(generate_rectangle(4, 5))"
   ]
  }
 ],
 "metadata": {
  "kernelspec": {
   "display_name": "Python 3",
   "language": "python",
   "name": "python3"
  },
  "language_info": {
   "codemirror_mode": {
    "name": "ipython",
    "version": 3
   },
   "file_extension": ".py",
   "mimetype": "text/x-python",
   "name": "python",
   "nbconvert_exporter": "python",
   "pygments_lexer": "ipython3",
   "version": "3.12.0"
  }
 },
 "nbformat": 4,
 "nbformat_minor": 2
}
