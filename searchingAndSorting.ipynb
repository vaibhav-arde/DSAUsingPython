{
 "cells": [
  {
   "cell_type": "code",
   "execution_count": 7,
   "metadata": {},
   "outputs": [
    {
     "name": "stdout",
     "output_type": "stream",
     "text": [
      "-1\n",
      "3\n"
     ]
    }
   ],
   "source": [
    "# Linear Search\n",
    "\n",
    "def linear_search(arr, target):\n",
    "    size = len(arr)\n",
    "    \n",
    "    for index in range(size):\n",
    "        if(arr[index]==target):\n",
    "            return index\n",
    "    \n",
    "    return -1\n",
    "\n",
    "my_list = [10,23,45,70,11]\n",
    "target = 700\n",
    "\n",
    "result1 = linear_search(my_list,target)\n",
    "print(result1)\n",
    "result2 = linear_search(my_list,70)\n",
    "print(result2)"
   ]
  },
  {
   "cell_type": "code",
   "execution_count": 11,
   "metadata": {},
   "outputs": [
    {
     "name": "stdout",
     "output_type": "stream",
     "text": [
      "6\n"
     ]
    }
   ],
   "source": [
    "# Binary Search:\n",
    "\n",
    "def binary_search(arr, target):\n",
    "    size = len(arr)\n",
    "    start=0\n",
    "    end = size - 1\n",
    "    \n",
    "    while(start <= end):\n",
    "        mid = (start + end)// 2\n",
    "        if(arr[mid] == target):\n",
    "            return mid\n",
    "        elif(arr[mid] > target):\n",
    "            end = mid - 1\n",
    "        elif(arr[mid] < target):\n",
    "            start = mid + 1\n",
    "    return -1\n",
    "     \n",
    "            \n",
    "sorted_list = [10,23,35,45,50,70,85]\n",
    "target = 85\n",
    "\n",
    "result = binary_search(sorted_list,target)\n",
    "print(result)\n"
   ]
  },
  {
   "cell_type": "code",
   "execution_count": 12,
   "metadata": {},
   "outputs": [
    {
     "name": "stdout",
     "output_type": "stream",
     "text": [
      "Sorted Elements : [11, 22, 25, 34, 90, 120]\n"
     ]
    }
   ],
   "source": [
    "# Bubble Sort\n",
    "\n",
    "def bubble_sort(arr):\n",
    "    size = len(arr)\n",
    "    \n",
    "    for passes in range(size):\n",
    "        for index in range(size-1-passes):\n",
    "            if(arr[index]>arr[index+1]):\n",
    "                arr[index], arr[index+1] = arr[index +1], arr[index]\n",
    "    return arr\n",
    "\n",
    "unsorted_list = [120,25,11,34,90,22]\n",
    "sorted_list = bubble_sort(unsorted_list)\n",
    "print(\"Sorted Elements :\", sorted_list)"
   ]
  },
  {
   "cell_type": "code",
   "execution_count": 19,
   "metadata": {},
   "outputs": [
    {
     "name": "stdout",
     "output_type": "stream",
     "text": [
      "Sorted Elements : [11, 12, 22, 25, 34, 90]\n"
     ]
    }
   ],
   "source": [
    "# Selection Sort:\n",
    "\n",
    "def selection_sort(arr):\n",
    "    n = len(arr)\n",
    "    for start in range(n-1):\n",
    "        for index in range(start, n):\n",
    "            if arr[start]>arr[index]:\n",
    "                arr[start], arr[index] = arr[index], arr[start]\n",
    "    return arr\n",
    "        \n",
    "unsorted_list = [12,25,11,34,90,22]\n",
    "sorted_list = selection_sort(unsorted_list)\n",
    "print(\"Sorted Elements :\", sorted_list)  \n",
    "\n",
    "# https://visualgo.net/en/sorting"
   ]
  },
  {
   "cell_type": "code",
   "execution_count": 23,
   "metadata": {},
   "outputs": [
    {
     "name": "stdout",
     "output_type": "stream",
     "text": [
      "Sorted Elements : [11, 12, 22, 25, 34, 90]\n"
     ]
    }
   ],
   "source": [
    "# Selection Sort:\n",
    "\n",
    "def selection_sort(arr):\n",
    "    n= len(arr)\n",
    "    for i in range(n-1):\n",
    "        min_index = i\n",
    "        for j in range(i+1,n):\n",
    "            if arr[j]<arr[min_index]:\n",
    "                min_index = j\n",
    "        arr[i], arr[min_index] = arr[min_index], arr[i]\n",
    "\n",
    "    return arr\n",
    "        \n",
    "unsorted_list = [12,25,11,34,90,22]\n",
    "sorted_list = selection_sort(unsorted_list)\n",
    "print(\"Sorted Elements :\", sorted_list) "
   ]
  },
  {
   "cell_type": "code",
   "execution_count": 28,
   "metadata": {},
   "outputs": [
    {
     "name": "stdout",
     "output_type": "stream",
     "text": [
      "Sorted Elements : [11, 12, 22, 25, 34, 90]\n"
     ]
    }
   ],
   "source": [
    "# Insersion Sort:\n",
    "\n",
    "def insertion_sort(arr):\n",
    "    n = len(arr)\n",
    "    for current in range(1, n):\n",
    "        currentCard = arr[current]\n",
    "        correctPosition = current-1\n",
    "        while correctPosition >= 0:\n",
    "            if(arr[correctPosition] < currentCard):\n",
    "                break\n",
    "            else:\n",
    "                arr[correctPosition + 1 ] = arr[correctPosition]\n",
    "                correctPosition-=1\n",
    "            arr[correctPosition + 1 ] = currentCard\n",
    "    return arr           \n",
    "\n",
    "unsorted_list = [12,25,11,34,90,22]\n",
    "sorted_list = insertion_sort(unsorted_list)\n",
    "print(\"Sorted Elements :\", sorted_list)\n",
    "\n"
   ]
  }
 ],
 "metadata": {
  "kernelspec": {
   "display_name": "Python 3",
   "language": "python",
   "name": "python3"
  },
  "language_info": {
   "codemirror_mode": {
    "name": "ipython",
    "version": 3
   },
   "file_extension": ".py",
   "mimetype": "text/x-python",
   "name": "python",
   "nbconvert_exporter": "python",
   "pygments_lexer": "ipython3",
   "version": "3.12.0"
  }
 },
 "nbformat": 4,
 "nbformat_minor": 2
}
