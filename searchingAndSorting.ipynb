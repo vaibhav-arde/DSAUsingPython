{
 "cells": [
  {
   "cell_type": "code",
   "execution_count": 7,
   "metadata": {},
   "outputs": [
    {
     "name": "stdout",
     "output_type": "stream",
     "text": [
      "-1\n",
      "3\n"
     ]
    }
   ],
   "source": [
    "# Linear Search\n",
    "\n",
    "def linear_search(arr, target):\n",
    "    size = len(arr)\n",
    "    \n",
    "    for index in range(size):\n",
    "        if(arr[index]==target):\n",
    "            return index\n",
    "    \n",
    "    return -1\n",
    "\n",
    "my_list = [10,23,45,70,11]\n",
    "target = 700\n",
    "\n",
    "result1 = linear_search(my_list,target)\n",
    "print(result1)\n",
    "result2 = linear_search(my_list,70)\n",
    "print(result2)"
   ]
  },
  {
   "cell_type": "code",
   "execution_count": 11,
   "metadata": {},
   "outputs": [
    {
     "name": "stdout",
     "output_type": "stream",
     "text": [
      "6\n"
     ]
    }
   ],
   "source": [
    "# Binary Search:\n",
    "\n",
    "def binary_search(arr, target):\n",
    "    size = len(arr)\n",
    "    start=0\n",
    "    end = size - 1\n",
    "    \n",
    "    while(start <= end):\n",
    "        mid = (start + end)// 2\n",
    "        if(arr[mid] == target):\n",
    "            return mid\n",
    "        elif(arr[mid] > target):\n",
    "            end = mid - 1\n",
    "        elif(arr[mid] < target):\n",
    "            start = mid + 1\n",
    "    return -1\n",
    "     \n",
    "            \n",
    "sorted_list = [10,23,35,45,50,70,85]\n",
    "target = 85\n",
    "\n",
    "result = binary_search(sorted_list,target)\n",
    "print(result)\n"
   ]
  }
 ],
 "metadata": {
  "kernelspec": {
   "display_name": "Python 3",
   "language": "python",
   "name": "python3"
  },
  "language_info": {
   "codemirror_mode": {
    "name": "ipython",
    "version": 3
   },
   "file_extension": ".py",
   "mimetype": "text/x-python",
   "name": "python",
   "nbconvert_exporter": "python",
   "pygments_lexer": "ipython3",
   "version": "3.12.0"
  }
 },
 "nbformat": 4,
 "nbformat_minor": 2
}
